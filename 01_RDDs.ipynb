{
 "cells": [
  {
   "cell_type": "markdown",
   "metadata": {},
   "source": [
    "# Cloudvane Sample 1 - Basics of RDDs"
   ]
  },
  {
   "cell_type": "markdown",
   "metadata": {},
   "source": [
    "## Import libraries\n",
    "We will need pyspark and random, since we generate some values. \n",
    "We will also create the spark context. \n",
    "\n",
    "NOTE: only execute this line once, since otherwise you will create multiple spark context's (which isn't possible with the same name!)"
   ]
  },
  {
   "cell_type": "code",
   "execution_count": 11,
   "metadata": {},
   "outputs": [],
   "source": [
    "import pyspark\n",
    "import random\n",
    "\n",
    "sc = pyspark.SparkContext(appName=\"Cloudvane_S01\")"
   ]
  },
  {
   "cell_type": "markdown",
   "metadata": {},
   "source": [
    "## Create Data\n",
    "\n",
    "Now, let's create some data. We will use the expovariate to get different data sets, both negative and positive\n",
    "We will create 100 entries"
   ]
  },
  {
   "cell_type": "code",
   "execution_count": 38,
   "metadata": {},
   "outputs": [
    {
     "data": {
      "text/plain": [
       "[-0.39052765211055196,\n",
       " -0.18288145405368328,\n",
       " -0.840247848391749,\n",
       " -198.88346281412788,\n",
       " -1.9430921485739105,\n",
       " 16.483623772565192,\n",
       " 1.0277011272947039,\n",
       " -12.388154209455285,\n",
       " -1.1270971429287095,\n",
       " -4.883935587778448,\n",
       " 1.5676936495442393,\n",
       " 2.1311945947828472,\n",
       " 2.8452657725322634,\n",
       " -19.904683801871926,\n",
       " 9.296825495359155,\n",
       " -7.352958838775534,\n",
       " 9.685279820095236,\n",
       " -10.070354070141581,\n",
       " 11.660280023307187,\n",
       " 3.366825580226044,\n",
       " -77.96153754411752,\n",
       " 3.712168911008661,\n",
       " 0.07516359676992539,\n",
       " 44.903601366655806,\n",
       " 1.3103360286093775,\n",
       " 3.628974834769563,\n",
       " 13.646311998408688,\n",
       " 11.942105527148861,\n",
       " 48.789601151863174,\n",
       " 0.9597972414893609,\n",
       " -6.723116376706565,\n",
       " -0.13003904919520468,\n",
       " -99.68110411872009,\n",
       " -1.6200299927834667,\n",
       " -3.6071470327649884,\n",
       " 0.5029789115989489,\n",
       " -1.7857219465177903,\n",
       " -1.041472611093276,\n",
       " -5.8573532472676915,\n",
       " -1.1951289556187288,\n",
       " -14.396184099101573,\n",
       " 3.546289243484724,\n",
       " -3.7836794738931814,\n",
       " -2.319411099922199,\n",
       " 2.4733593029763923,\n",
       " -3.684868547714244,\n",
       " -34.37529297628501,\n",
       " -2.519375361093037,\n",
       " -0.9142547968219793,\n",
       " 1.4525667353664093,\n",
       " -0.6477492962914537,\n",
       " -5.875381261798173,\n",
       " -0.6158324373896732,\n",
       " 0.4418391414003095,\n",
       " 401.68452290364746,\n",
       " -13.816286415004539,\n",
       " -3.2292397671193336,\n",
       " 0.8136648000611015,\n",
       " 4.859777590697763,\n",
       " -5.8172985534732,\n",
       " 2.49614499254164,\n",
       " -0.3174855000857795,\n",
       " 5.682392629367038,\n",
       " 42.89700967033855,\n",
       " 0.013205607595950174,\n",
       " 3.1554010710147007,\n",
       " 1.083832639810834,\n",
       " -0.48623177205730567,\n",
       " 0.6490665006560552,\n",
       " 12.747865093728997,\n",
       " -6.700507967810118,\n",
       " -1.2717469628356457,\n",
       " -3.424668371248491,\n",
       " 11.9961683405362,\n",
       " -14.416313492629797,\n",
       " -0.24722510574469192,\n",
       " 2.187690169642828,\n",
       " 5.555722779880505,\n",
       " 6.5151316487638065,\n",
       " -16.851545951448973,\n",
       " -16.194568178689067,\n",
       " 4.502749610149472,\n",
       " 3.8579750642026758,\n",
       " 18.342313021585408,\n",
       " 8.164069071230307,\n",
       " 0.4695021576520854,\n",
       " 50.82103182360162,\n",
       " -3.6409531750869264,\n",
       " -62.345311048434716,\n",
       " 9.988983280522062,\n",
       " 3.5867513770375803,\n",
       " 7.880852347175808,\n",
       " -5.597832508987486,\n",
       " -89.69158040712962,\n",
       " -0.741565401052243,\n",
       " -0.3566741535850886,\n",
       " 1.15692499053512,\n",
       " -10.120001854576898,\n",
       " 2.5309018406701975,\n",
       " -10.147845935268009]"
      ]
     },
     "execution_count": 38,
     "metadata": {},
     "output_type": "execute_result"
    }
   ],
   "source": [
    "someValues = []\n",
    "\n",
    "for i in range(0,100):\n",
    "    someValues.append(random.expovariate(random.random()-0.5))\n",
    "\n",
    "someValues"
   ]
  },
  {
   "cell_type": "markdown",
   "metadata": {},
   "source": [
    "## Let's now switch over to Spark ... \n",
    "\n",
    "We parallelize the data to get back an RDD"
   ]
  },
  {
   "cell_type": "code",
   "execution_count": 13,
   "metadata": {},
   "outputs": [],
   "source": [
    "spark_data = sc.parallelize(someValues)"
   ]
  },
  {
   "cell_type": "markdown",
   "metadata": {},
   "source": [
    "## Let's do some basic math - sum and count"
   ]
  },
  {
   "cell_type": "code",
   "execution_count": 14,
   "metadata": {},
   "outputs": [
    {
     "data": {
      "text/plain": [
       "-230.79359878996544"
      ]
     },
     "execution_count": 14,
     "metadata": {},
     "output_type": "execute_result"
    }
   ],
   "source": [
    "sp_sum = spark_data.sum()\n",
    "sp_sum"
   ]
  },
  {
   "cell_type": "code",
   "execution_count": 15,
   "metadata": {},
   "outputs": [
    {
     "data": {
      "text/plain": [
       "100"
      ]
     },
     "execution_count": 15,
     "metadata": {},
     "output_type": "execute_result"
    }
   ],
   "source": [
    "sp_ct = spark_data.count()\n",
    "sp_ct"
   ]
  },
  {
   "cell_type": "markdown",
   "metadata": {},
   "source": [
    "## But what if we want to get the average? \n",
    "\n",
    "We need to create a function for that - and then apply the function"
   ]
  },
  {
   "cell_type": "code",
   "execution_count": 16,
   "metadata": {},
   "outputs": [],
   "source": [
    "def average(vals):\n",
    "    return vals.sum() / vals.count()"
   ]
  },
  {
   "cell_type": "code",
   "execution_count": 17,
   "metadata": {},
   "outputs": [
    {
     "data": {
      "text/plain": [
       "-2.3079359878996546"
      ]
     },
     "execution_count": 17,
     "metadata": {},
     "output_type": "execute_result"
    }
   ],
   "source": [
    "average(spark_data)"
   ]
  },
  {
   "cell_type": "markdown",
   "metadata": {},
   "source": [
    "# Transformations in Spark\n",
    "## Filter data"
   ]
  },
  {
   "cell_type": "code",
   "execution_count": 18,
   "metadata": {},
   "outputs": [
    {
     "data": {
      "text/plain": [
       "[88.34565364262268,\n",
       " 0.45385649435298375,\n",
       " 0.46904166519865287,\n",
       " 0.1877880521690893,\n",
       " 102.53631695817127,\n",
       " 0.6364964164480461,\n",
       " 0.19863253799948713,\n",
       " 29.46021296980408,\n",
       " 2.3555510156841004,\n",
       " 1.052184063595872,\n",
       " 5.36007533255343,\n",
       " 0.9888260521694023,\n",
       " 7.203306232812682,\n",
       " 1.3970260876189113,\n",
       " 0.5164789411430335,\n",
       " 0.6704481697927206,\n",
       " 3.0602454358552516,\n",
       " 4.772168508954168,\n",
       " 3.1424333977160015,\n",
       " 0.9387951453048047,\n",
       " 1.6690042303336938,\n",
       " 1.0831883044415573,\n",
       " 2.0078206646486176,\n",
       " 1.538744882998567,\n",
       " 5.130641901930761,\n",
       " 7.878382165179673,\n",
       " 15.681277994516416,\n",
       " 1.1261064424114673,\n",
       " 1.5555583794217287,\n",
       " 13.053021289972232,\n",
       " 0.4279691734717034,\n",
       " 2.4104514294762676,\n",
       " 4.412272263448461,\n",
       " 1.5142114069484345,\n",
       " 8.045739845164702,\n",
       " 40.947409727755925,\n",
       " 12.937844201015126,\n",
       " 9.535233760270598,\n",
       " 3.662073923714872,\n",
       " 1.334248644614033,\n",
       " 6.076225954536054]"
      ]
     },
     "execution_count": 18,
     "metadata": {},
     "output_type": "execute_result"
    }
   ],
   "source": [
    "sp_pos = spark_data.filter(lambda x: x>0.0).collect()\n",
    "sp_pos"
   ]
  },
  {
   "cell_type": "code",
   "execution_count": 19,
   "metadata": {},
   "outputs": [
    {
     "data": {
      "text/plain": [
       "[0.45385649435298375,\n",
       " 0.46904166519865287,\n",
       " 0.1877880521690893,\n",
       " 0.6364964164480461,\n",
       " 0.19863253799948713,\n",
       " 2.3555510156841004,\n",
       " 1.052184063595872,\n",
       " 0.9888260521694023,\n",
       " 1.3970260876189113,\n",
       " 0.5164789411430335,\n",
       " 0.6704481697927206,\n",
       " 0.9387951453048047,\n",
       " 1.6690042303336938,\n",
       " 1.0831883044415573,\n",
       " 2.0078206646486176,\n",
       " 1.538744882998567,\n",
       " 1.1261064424114673,\n",
       " 1.5555583794217287,\n",
       " 0.4279691734717034,\n",
       " 2.4104514294762676,\n",
       " 1.5142114069484345,\n",
       " 1.334248644614033]"
      ]
     },
     "execution_count": 19,
     "metadata": {},
     "output_type": "execute_result"
    }
   ],
   "source": [
    "sp_pos = spark_data.filter(lambda x: x>0.0).filter(lambda y: y<3.0).collect()\n",
    "sp_pos"
   ]
  },
  {
   "cell_type": "markdown",
   "metadata": {},
   "source": [
    "## Sort Data"
   ]
  },
  {
   "cell_type": "code",
   "execution_count": 20,
   "metadata": {},
   "outputs": [
    {
     "data": {
      "text/plain": [
       "[-98.9855394163018,\n",
       " -82.99907639866315,\n",
       " -79.26003495162618,\n",
       " -57.08402597863696,\n",
       " -39.954941495333095,\n",
       " -22.665733210312986,\n",
       " -16.21422570750955,\n",
       " -15.132142246086985,\n",
       " -13.469363181335009,\n",
       " -11.9685694199877,\n",
       " -11.79727270903096,\n",
       " -10.640544940363565,\n",
       " -10.177456941661683,\n",
       " -9.350136396451243,\n",
       " -9.15562223823075,\n",
       " -8.885087776097684,\n",
       " -8.828489723753306,\n",
       " -7.121259402310163,\n",
       " -5.968796870185603,\n",
       " -5.795297889498543,\n",
       " -5.759169571034792,\n",
       " -5.426576097307699,\n",
       " -4.892257593968877,\n",
       " -4.870336498868918,\n",
       " -4.803714343447072,\n",
       " -4.680890685710039,\n",
       " -4.237095583451295,\n",
       " -4.070230304352671,\n",
       " -4.002950779462385,\n",
       " -3.7723444233913637,\n",
       " -3.7385652813430474,\n",
       " -3.7001325937448177,\n",
       " -3.476529308122447,\n",
       " -3.4607695761471398,\n",
       " -3.2630086565965457,\n",
       " -3.1834886702976726,\n",
       " -3.1731665500044492,\n",
       " -2.5811021702883856,\n",
       " -2.5128827141064334,\n",
       " -2.4868113697586396,\n",
       " -2.3181227973720886,\n",
       " -2.178959830984491,\n",
       " -2.165302513270822,\n",
       " -2.159527108924834,\n",
       " -1.8400311952384203,\n",
       " -1.8049642819371752,\n",
       " -1.6444784763165206,\n",
       " -1.5283513040747967,\n",
       " -1.391334594796832,\n",
       " -1.321563813730087,\n",
       " -1.1189458837589144,\n",
       " -0.7768216588137714,\n",
       " -0.6999782158722295,\n",
       " -0.6996978372561382,\n",
       " -0.5482104497704919,\n",
       " -0.5292979201735992,\n",
       " -0.1879603077805609,\n",
       " -0.08194197431146938,\n",
       " -0.02543266703814248,\n",
       " 0.1877880521690893,\n",
       " 0.19863253799948713,\n",
       " 0.4279691734717034,\n",
       " 0.45385649435298375,\n",
       " 0.46904166519865287,\n",
       " 0.5164789411430335,\n",
       " 0.6364964164480461,\n",
       " 0.6704481697927206,\n",
       " 0.9387951453048047,\n",
       " 0.9888260521694023,\n",
       " 1.052184063595872,\n",
       " 1.0831883044415573,\n",
       " 1.1261064424114673,\n",
       " 1.334248644614033,\n",
       " 1.3970260876189113,\n",
       " 1.5142114069484345,\n",
       " 1.538744882998567,\n",
       " 1.5555583794217287,\n",
       " 1.6690042303336938,\n",
       " 2.0078206646486176,\n",
       " 2.3555510156841004,\n",
       " 2.4104514294762676,\n",
       " 3.0602454358552516,\n",
       " 3.1424333977160015,\n",
       " 3.662073923714872,\n",
       " 4.412272263448461,\n",
       " 4.772168508954168,\n",
       " 5.130641901930761,\n",
       " 5.36007533255343,\n",
       " 6.076225954536054,\n",
       " 7.203306232812682,\n",
       " 7.878382165179673,\n",
       " 8.045739845164702,\n",
       " 9.535233760270598,\n",
       " 12.937844201015126,\n",
       " 13.053021289972232,\n",
       " 15.681277994516416,\n",
       " 29.46021296980408,\n",
       " 40.947409727755925,\n",
       " 88.34565364262268,\n",
       " 102.53631695817127]"
      ]
     },
     "execution_count": 20,
     "metadata": {},
     "output_type": "execute_result"
    }
   ],
   "source": [
    "sp_sorted = spark_data.sortBy(lambda x: x).collect()\n",
    "sp_sorted"
   ]
  },
  {
   "cell_type": "code",
   "execution_count": 21,
   "metadata": {},
   "outputs": [
    {
     "data": {
      "text/plain": [
       "[102.53631695817127,\n",
       " 88.34565364262268,\n",
       " 40.947409727755925,\n",
       " 29.46021296980408,\n",
       " 15.681277994516416,\n",
       " 13.053021289972232,\n",
       " 12.937844201015126,\n",
       " 9.535233760270598,\n",
       " 8.045739845164702,\n",
       " 7.878382165179673,\n",
       " 7.203306232812682,\n",
       " 6.076225954536054,\n",
       " 5.36007533255343,\n",
       " 5.130641901930761,\n",
       " 4.772168508954168,\n",
       " 4.412272263448461,\n",
       " 3.662073923714872,\n",
       " 3.1424333977160015,\n",
       " 3.0602454358552516,\n",
       " 2.4104514294762676,\n",
       " 2.3555510156841004,\n",
       " 2.0078206646486176,\n",
       " 1.6690042303336938,\n",
       " 1.5555583794217287,\n",
       " 1.538744882998567,\n",
       " 1.5142114069484345,\n",
       " 1.3970260876189113,\n",
       " 1.334248644614033,\n",
       " 1.1261064424114673,\n",
       " 1.0831883044415573,\n",
       " 1.052184063595872,\n",
       " 0.9888260521694023,\n",
       " 0.9387951453048047,\n",
       " 0.6704481697927206,\n",
       " 0.6364964164480461,\n",
       " 0.5164789411430335,\n",
       " 0.46904166519865287,\n",
       " 0.45385649435298375,\n",
       " 0.4279691734717034,\n",
       " 0.19863253799948713,\n",
       " 0.1877880521690893,\n",
       " -0.02543266703814248,\n",
       " -0.08194197431146938,\n",
       " -0.1879603077805609,\n",
       " -0.5292979201735992,\n",
       " -0.5482104497704919,\n",
       " -0.6996978372561382,\n",
       " -0.6999782158722295,\n",
       " -0.7768216588137714,\n",
       " -1.1189458837589144,\n",
       " -1.321563813730087,\n",
       " -1.391334594796832,\n",
       " -1.5283513040747967,\n",
       " -1.6444784763165206,\n",
       " -1.8049642819371752,\n",
       " -1.8400311952384203,\n",
       " -2.159527108924834,\n",
       " -2.165302513270822,\n",
       " -2.178959830984491,\n",
       " -2.3181227973720886,\n",
       " -2.4868113697586396,\n",
       " -2.5128827141064334,\n",
       " -2.5811021702883856,\n",
       " -3.1731665500044492,\n",
       " -3.1834886702976726,\n",
       " -3.2630086565965457,\n",
       " -3.4607695761471398,\n",
       " -3.476529308122447,\n",
       " -3.7001325937448177,\n",
       " -3.7385652813430474,\n",
       " -3.7723444233913637,\n",
       " -4.002950779462385,\n",
       " -4.070230304352671,\n",
       " -4.237095583451295,\n",
       " -4.680890685710039,\n",
       " -4.803714343447072,\n",
       " -4.870336498868918,\n",
       " -4.892257593968877,\n",
       " -5.426576097307699,\n",
       " -5.759169571034792,\n",
       " -5.795297889498543,\n",
       " -5.968796870185603,\n",
       " -7.121259402310163,\n",
       " -8.828489723753306,\n",
       " -8.885087776097684,\n",
       " -9.15562223823075,\n",
       " -9.350136396451243,\n",
       " -10.177456941661683,\n",
       " -10.640544940363565,\n",
       " -11.79727270903096,\n",
       " -11.9685694199877,\n",
       " -13.469363181335009,\n",
       " -15.132142246086985,\n",
       " -16.21422570750955,\n",
       " -22.665733210312986,\n",
       " -39.954941495333095,\n",
       " -57.08402597863696,\n",
       " -79.26003495162618,\n",
       " -82.99907639866315,\n",
       " -98.9855394163018]"
      ]
     },
     "execution_count": 21,
     "metadata": {},
     "output_type": "execute_result"
    }
   ],
   "source": [
    "sp_sorted = spark_data.sortBy(lambda x: x, False).collect()\n",
    "sp_sorted"
   ]
  },
  {
   "cell_type": "markdown",
   "metadata": {},
   "source": [
    "## Join Data "
   ]
  },
  {
   "cell_type": "code",
   "execution_count": 22,
   "metadata": {},
   "outputs": [
    {
     "data": {
      "text/plain": [
       "[('Mark', (1984, 2015))]"
      ]
     },
     "execution_count": 22,
     "metadata": {},
     "output_type": "execute_result"
    }
   ],
   "source": [
    "ds_one = sc.parallelize([(\"Mark\", 1984), (\"Lisa\", 1985)])\n",
    "ds_two = sc.parallelize([(\"Mark\", 2015), (\"Anastasia\", 2017)])\n",
    "\n",
    "sorted(ds_one.join(ds_two).collect())"
   ]
  },
  {
   "cell_type": "markdown",
   "metadata": {},
   "source": [
    "## Distinct"
   ]
  },
  {
   "cell_type": "code",
   "execution_count": 23,
   "metadata": {},
   "outputs": [
    {
     "data": {
      "text/plain": [
       "[4, 1, 2, 3]"
      ]
     },
     "execution_count": 23,
     "metadata": {},
     "output_type": "execute_result"
    }
   ],
   "source": [
    "ds_distinct = sc.parallelize([(1), (2), (3), (4), (1)]).distinct().collect()\n",
    "ds_distinct"
   ]
  },
  {
   "cell_type": "markdown",
   "metadata": {},
   "source": [
    "## Group Data"
   ]
  },
  {
   "cell_type": "code",
   "execution_count": 24,
   "metadata": {},
   "outputs": [
    {
     "data": {
      "text/plain": [
       "[('Lisa', [1985]), ('Mark', [1984, 2015])]"
      ]
     },
     "execution_count": 24,
     "metadata": {},
     "output_type": "execute_result"
    }
   ],
   "source": [
    "ds_set = sc.parallelize([(\"Mark\", 1984), (\"Lisa\", 1985), (\"Mark\", 2015)])\n",
    "\n",
    "ds_grp = ds_set.groupByKey().mapValues(list).collect()\n",
    "ds_grp"
   ]
  },
  {
   "cell_type": "code",
   "execution_count": 25,
   "metadata": {},
   "outputs": [
    {
     "data": {
      "text/plain": [
       "[('Lisa', 1), ('Mark', 2)]"
      ]
     },
     "execution_count": 25,
     "metadata": {},
     "output_type": "execute_result"
    }
   ],
   "source": [
    "ds_set.groupByKey().mapValues(len).collect()"
   ]
  },
  {
   "cell_type": "markdown",
   "metadata": {},
   "source": [
    "## Union"
   ]
  },
  {
   "cell_type": "code",
   "execution_count": 26,
   "metadata": {},
   "outputs": [
    {
     "data": {
      "text/plain": [
       "[('Anastasia', 2017), ('Lisa', 1985), ('Luke', 2015), ('Mark', 1984)]"
      ]
     },
     "execution_count": 26,
     "metadata": {},
     "output_type": "execute_result"
    }
   ],
   "source": [
    "ds_one = sc.parallelize([(\"Mark\", 1984), (\"Lisa\", 1985)])\n",
    "ds_two = sc.parallelize([(\"Luke\", 2015), (\"Anastasia\", 2017)])\n",
    "\n",
    "sorted(ds_one.union(ds_two).collect())"
   ]
  },
  {
   "cell_type": "markdown",
   "metadata": {},
   "source": [
    "## Intersection"
   ]
  },
  {
   "cell_type": "code",
   "execution_count": 27,
   "metadata": {},
   "outputs": [
    {
     "data": {
      "text/plain": [
       "[('Mark', 1984)]"
      ]
     },
     "execution_count": 27,
     "metadata": {},
     "output_type": "execute_result"
    }
   ],
   "source": [
    "ds_one = sc.parallelize([(\"Mark\", 1984), (\"Lisa\", 1985)])\n",
    "ds_two = sc.parallelize([(\"Mark\", 1984), (\"Anastasia\", 2017)])\n",
    "\n",
    "sorted(ds_one.intersection(ds_two).collect())"
   ]
  },
  {
   "cell_type": "markdown",
   "metadata": {},
   "source": [
    "## Map Function"
   ]
  },
  {
   "cell_type": "code",
   "execution_count": 28,
   "metadata": {
    "scrolled": false
   },
   "outputs": [
    {
     "data": {
      "text/plain": [
       "[['Lisa', 34, 'f'], ['Mark', 35, 'm']]"
      ]
     },
     "execution_count": 28,
     "metadata": {},
     "output_type": "execute_result"
    }
   ],
   "source": [
    "import datetime\n",
    "\n",
    "def doTheTrans(values):\n",
    "    \n",
    "    age = datetime.datetime.now().year - values[1]\n",
    "    gender = \"\"\n",
    "    \n",
    "    if values[0].endswith(\"a\"):\n",
    "        gender = \"f\"\n",
    "    else:\n",
    "        gender = \"m\"\n",
    "        \n",
    "    return ([values[0], age, gender])\n",
    "\n",
    "ds_one = sc.parallelize([(\"Mark\", 1984), (\"Lisa\", 1985)])\n",
    "\n",
    "sorted(ds_one.map(doTheTrans).collect())"
   ]
  },
  {
   "cell_type": "code",
   "execution_count": 29,
   "metadata": {},
   "outputs": [
    {
     "data": {
      "text/plain": [
       "[('Lisa', 35), ('Mark', 36)]"
      ]
     },
     "execution_count": 29,
     "metadata": {},
     "output_type": "execute_result"
    }
   ],
   "source": [
    "sorted(ds_one.map(lambda x: (x[0], datetime.datetime.now().year - x[1] +1)).collect())"
   ]
  },
  {
   "cell_type": "markdown",
   "metadata": {},
   "source": [
    "# Actions in Spark"
   ]
  },
  {
   "cell_type": "code",
   "execution_count": 43,
   "metadata": {},
   "outputs": [
    {
     "data": {
      "text/plain": [
       "-3.410529684695683e+52"
      ]
     },
     "execution_count": 43,
     "metadata": {},
     "output_type": "execute_result"
    }
   ],
   "source": [
    "from operator import *\n",
    "\n",
    "spark_data.reduce(mul)"
   ]
  },
  {
   "cell_type": "code",
   "execution_count": 52,
   "metadata": {},
   "outputs": [
    {
     "data": {
      "text/plain": [
       "('Mark', 1984)"
      ]
     },
     "execution_count": 52,
     "metadata": {},
     "output_type": "execute_result"
    }
   ],
   "source": [
    "ds_one.first()"
   ]
  },
  {
   "cell_type": "code",
   "execution_count": 54,
   "metadata": {},
   "outputs": [
    {
     "data": {
      "text/plain": [
       "2"
      ]
     },
     "execution_count": 54,
     "metadata": {},
     "output_type": "execute_result"
    }
   ],
   "source": [
    "ds_one.count()"
   ]
  },
  {
   "cell_type": "code",
   "execution_count": 55,
   "metadata": {},
   "outputs": [],
   "source": [
    "ds_one.saveAsTextFile(\"data/dsone.csv\")"
   ]
  },
  {
   "cell_type": "code",
   "execution_count": null,
   "metadata": {},
   "outputs": [],
   "source": []
  }
 ],
 "metadata": {
  "kernelspec": {
   "display_name": "Python 3",
   "language": "python",
   "name": "python3"
  },
  "language_info": {
   "codemirror_mode": {
    "name": "ipython",
    "version": 3
   },
   "file_extension": ".py",
   "mimetype": "text/x-python",
   "name": "python",
   "nbconvert_exporter": "python",
   "pygments_lexer": "ipython3",
   "version": "3.7.3"
  }
 },
 "nbformat": 4,
 "nbformat_minor": 2
}
